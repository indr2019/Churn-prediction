{
 "cells": [
  {
   "cell_type": "markdown",
   "id": "48a76c79",
   "metadata": {},
   "source": [
    "# <font color='red'>-----------------------------------------------------------------------------------------------------</font>\n",
    "# <font color='green'>Telco dataset - customer churn prediction</font>\n",
    "## <font color='green'>Dataset is related to Telco customers to predict churn</font>\n",
    "# <font color='red'>-----------------------------------------------------------------------------------------------------</font>"
   ]
  },
  {
   "cell_type": "markdown",
   "id": "58b3f524",
   "metadata": {},
   "source": [
    "## <ins><div class=\"alert alert-block alert-info\">*Objective*</div></ins>"
   ]
  },
  {
   "cell_type": "markdown",
   "id": "290b1cee",
   "metadata": {},
   "source": [
    "**Predicting customer churn so that we can work hard on attempting to retain high level customers so that we dont lose them. Thus we do churn prediction to improve retention rate**<br>\n",
    "We will use a different dataset of Telco which has target variable as 'churn' to build our model and make churn predictions"
   ]
  },
  {
   "cell_type": "markdown",
   "id": "3376ee8a",
   "metadata": {},
   "source": [
    "The libraries are already preloaded and hence we will directly begin with loading dataset and EDA"
   ]
  },
  {
   "cell_type": "code",
   "execution_count": null,
   "id": "74cd87a8",
   "metadata": {},
   "outputs": [],
   "source": [
    "import pandas as pd\n",
    "import numpy as np\n",
    "from datetime import timedelta,datetime,date\n",
    "import seaborn as sns\n",
    "import matplotlib.pyplot as plt\n",
    "%matplotlib inline\n",
    "import warnings\n",
    "warnings.filterwarnings('ignore')\n",
    "from sklearn import linear_model\n",
    "from sklearn.linear_model import LinearRegression\n",
    "from numpy import percentile"
   ]
  },
  {
   "cell_type": "markdown",
   "id": "0b7a7acf",
   "metadata": {},
   "source": [
    "### <ins><div class=\"alert alert-block alert-warning\">*Step 1: Loading the dataset, reading the file and doing required modifications*</div></ins>"
   ]
  },
  {
   "cell_type": "code",
   "execution_count": null,
   "id": "17fedb56",
   "metadata": {},
   "outputs": [],
   "source": [
    "tel_data = pd.read_csv('WA_Fn-UseC_-Telco-Customer-Churn.csv')\n",
    "tel_data.info()"
   ]
  },
  {
   "cell_type": "code",
   "execution_count": null,
   "id": "ae4931bd",
   "metadata": {},
   "outputs": [],
   "source": [
    "tel_data.isnull().sum()"
   ]
  },
  {
   "cell_type": "markdown",
   "id": "f1449f4a",
   "metadata": {},
   "source": [
    "Fortunately there are no missing values. However we have maximum categorical values (18 out of 21) so there will be many columns generated after one hot encoding"
   ]
  },
  {
   "cell_type": "code",
   "execution_count": null,
   "id": "f647513a",
   "metadata": {},
   "outputs": [],
   "source": [
    "# since target variable is in alphabetical format, we will convert it to numerical format\n",
    "num = {\"No\":0,\"Yes\":1}\n",
    "tel_data = tel_data.replace({\"Churn\":num})\n",
    "\n",
    "# also total charges seem to be object. coverting to integer\n",
    "# tel_data['TotalCharges'] = pd.to_numeric(tel_data['TotalCharges'])\n",
    "tel_data.head(2)"
   ]
  },
  {
   "cell_type": "markdown",
   "id": "55594c28",
   "metadata": {},
   "source": [
    "### <ins><div class=\"alert alert-block alert-warning\">*Step 2: Visualising the relationship between variables and churn rate and performing EDA*</div></ins>"
   ]
  },
  {
   "cell_type": "markdown",
   "id": "31bb6ab6",
   "metadata": {},
   "source": [
    "### Visualising the relationship between categorical variables and churn rate"
   ]
  },
  {
   "cell_type": "code",
   "execution_count": null,
   "id": "4968c98e",
   "metadata": {},
   "outputs": [],
   "source": [
    "# plotting bar plot for gender and churn\n",
    "plt.figure(figsize=(6,5))\n",
    "bar_plt_g=tel_data.groupby(['gender'])['Churn'].mean().reset_index()\n",
    "print(bar_plt_g,'\\n')\n",
    "x=bar_plt_g['gender']\n",
    "y=bar_plt_g['Churn']\n",
    "sns.barplot(x,y)\n",
    "plt.show()"
   ]
  },
  {
   "cell_type": "markdown",
   "id": "14512657",
   "metadata": {},
   "source": [
    "Churn rate for females is slightly more than for males"
   ]
  },
  {
   "cell_type": "code",
   "execution_count": null,
   "id": "d02a63c6",
   "metadata": {},
   "outputs": [],
   "source": [
    "# plotting bar plot for SeniorCitizen and churn\n",
    "plt.figure(figsize=(6,5))\n",
    "bar_plt_sc=tel_data.groupby(['SeniorCitizen'])['Churn'].mean().reset_index()\n",
    "print(bar_plt_sc,'\\n')\n",
    "x=bar_plt_sc['SeniorCitizen']\n",
    "y=bar_plt_sc['Churn']\n",
    "sns.barplot(x,y)\n",
    "plt.show()"
   ]
  },
  {
   "cell_type": "markdown",
   "id": "24983b66",
   "metadata": {},
   "source": [
    "Senior citizens churn is significantly higher than non sr citizen. They are more likely to churn than non sr.citizens"
   ]
  },
  {
   "cell_type": "code",
   "execution_count": null,
   "id": "acd5a3cc",
   "metadata": {},
   "outputs": [],
   "source": [
    "# plotting bar plot for PhoneService and churn\n",
    "plt.figure(figsize=(6,5))\n",
    "bar_plt_phn=tel_data.groupby(['PhoneService'])['Churn'].mean().reset_index()\n",
    "print(bar_plt_phn,'\\n')\n",
    "x=bar_plt_phn['PhoneService']\n",
    "y=bar_plt_phn['Churn']\n",
    "sns.barplot(x,y)\n",
    "plt.show()"
   ]
  },
  {
   "cell_type": "markdown",
   "id": "7799271e",
   "metadata": {},
   "source": [
    "Customers who have a phone service are more likely to churn compared to ones who already have, although the differencce is not that significant"
   ]
  },
  {
   "cell_type": "code",
   "execution_count": null,
   "id": "8c62400b",
   "metadata": {},
   "outputs": [],
   "source": [
    "# plotting bar plot for MultipleLines and churn\n",
    "plt.figure(figsize=(6,5))\n",
    "bar_plt_ml=tel_data.groupby(['MultipleLines'])['Churn'].mean().reset_index()\n",
    "print(bar_plt_ml,'\\n')\n",
    "x=bar_plt_ml['MultipleLines']\n",
    "y=bar_plt_ml['Churn']\n",
    "sns.barplot(x,y)\n",
    "plt.show()"
   ]
  },
  {
   "cell_type": "markdown",
   "id": "2c93aa16",
   "metadata": {},
   "source": [
    "Customers with multiple lines are more likely to churn compared to the ones with no multiple lines"
   ]
  },
  {
   "cell_type": "code",
   "execution_count": null,
   "id": "dd7e13bc",
   "metadata": {},
   "outputs": [],
   "source": [
    "# plotting bar plot for InternetService and churn\n",
    "plt.figure(figsize=(6,5))\n",
    "bar_plt_int=tel_data.groupby(['InternetService'])['Churn'].mean().reset_index()\n",
    "print(bar_plt_int,'\\n')\n",
    "x=bar_plt_int['InternetService']\n",
    "y=bar_plt_int['Churn']\n",
    "sns.barplot(x,y)\n",
    "plt.show()"
   ]
  },
  {
   "cell_type": "markdown",
   "id": "691c48b9",
   "metadata": {},
   "source": [
    "Customers having fibre optic lines are significantly more likely to churn compared to the ones who dont have fibre optics or DSL connection"
   ]
  },
  {
   "cell_type": "code",
   "execution_count": null,
   "id": "0969a0d1",
   "metadata": {},
   "outputs": [],
   "source": [
    "# plotting bar plot for OnlineSecurity and churn\n",
    "plt.figure(figsize=(6,5))\n",
    "bar_plt_osec=tel_data.groupby(['OnlineSecurity'])['Churn'].mean().reset_index()\n",
    "print(bar_plt_int,'\\n')\n",
    "x=bar_plt_osec['OnlineSecurity']\n",
    "y=bar_plt_osec['Churn']\n",
    "sns.barplot(x,y)\n",
    "plt.show()"
   ]
  },
  {
   "cell_type": "markdown",
   "id": "aadc8040",
   "metadata": {},
   "source": [
    "As expected cutomers with no online security are significantly more likely to churn compared to the ones who have online security"
   ]
  },
  {
   "cell_type": "code",
   "execution_count": null,
   "id": "ceae565c",
   "metadata": {},
   "outputs": [],
   "source": [
    "# plotting bar plot for OnlineBackup and churn\n",
    "plt.figure(figsize=(6,5))\n",
    "bar_plt_obck=tel_data.groupby(['OnlineBackup'])['Churn'].mean().reset_index()\n",
    "print(bar_plt_obck,'\\n')\n",
    "x=bar_plt_obck['OnlineBackup']\n",
    "y=bar_plt_obck['Churn']\n",
    "sns.barplot(x,y)\n",
    "plt.show()"
   ]
  },
  {
   "cell_type": "markdown",
   "id": "0993fafa",
   "metadata": {},
   "source": [
    "Same situation as expected with online backup as in online security"
   ]
  },
  {
   "cell_type": "code",
   "execution_count": null,
   "id": "55b45e9a",
   "metadata": {},
   "outputs": [],
   "source": [
    "# plotting bar plot for DeviceProtection and churn\n",
    "plt.figure(figsize=(6,5))\n",
    "bar_plt_devp=tel_data.groupby(['DeviceProtection'])['Churn'].mean().reset_index()\n",
    "print(bar_plt_devp,'\\n')\n",
    "x=bar_plt_devp['DeviceProtection']\n",
    "y=bar_plt_devp['Churn']\n",
    "sns.barplot(x,y)\n",
    "plt.show()"
   ]
  },
  {
   "cell_type": "markdown",
   "id": "7190ae5a",
   "metadata": {},
   "source": [
    "Device protection too follows the same patter as in online backup/security"
   ]
  },
  {
   "cell_type": "code",
   "execution_count": null,
   "id": "10b457f2",
   "metadata": {},
   "outputs": [],
   "source": [
    "# plotting bar plot for TechSupport and churn\n",
    "plt.figure(figsize=(6,5))\n",
    "bar_plt_tech=tel_data.groupby(['TechSupport'])['Churn'].mean().reset_index()\n",
    "print(bar_plt_tech,'\\n')\n",
    "x=bar_plt_tech['TechSupport']\n",
    "y=bar_plt_tech['Churn']\n",
    "sns.barplot(x,y)\n",
    "plt.show()"
   ]
  },
  {
   "cell_type": "markdown",
   "id": "b03354c9",
   "metadata": {},
   "source": [
    "Tech support too, obviously follows the same trend as in online. churn will be higher if people dont have proper to No tech support"
   ]
  },
  {
   "cell_type": "code",
   "execution_count": null,
   "id": "73435b0d",
   "metadata": {},
   "outputs": [],
   "source": [
    "# plotting bar plot for StreamingTV & StreamingMovies  and churn\n",
    "plt.figure(figsize=(6,5))\n",
    "bar_plt_strt=tel_data.groupby(['StreamingTV'])['Churn'].mean().reset_index()\n",
    "print(bar_plt_strt,'\\n')\n",
    "x=bar_plt_strt['StreamingTV']\n",
    "y=bar_plt_strt['Churn']\n",
    "sns.barplot(x,y)\n",
    "plt.show()\n",
    "\n",
    "plt.figure(figsize=(6,5))\n",
    "bar_plt_strm=tel_data.groupby(['StreamingMovies'])['Churn'].mean().reset_index()\n",
    "print(bar_plt_strm,'\\n')\n",
    "x=bar_plt_strm['StreamingMovies']\n",
    "y=bar_plt_strm['Churn']\n",
    "sns.barplot(x,y)\n",
    "plt.show()"
   ]
  },
  {
   "cell_type": "markdown",
   "id": "e9c79bd5",
   "metadata": {},
   "source": [
    "Customers with no streaming services are more likely to churn compared to customers with streaming service. although there isn't much difference between the ones that have and the ones that dont have"
   ]
  },
  {
   "cell_type": "code",
   "execution_count": null,
   "id": "594f375c",
   "metadata": {},
   "outputs": [],
   "source": [
    "# lets plot together for Contract, PaperlessBilling, PaymentMethod\n",
    "\n",
    "f,axes = plt.subplots(3,1,figsize=(10,10))\n",
    "plt.subplots_adjust(hspace=0.5)\n",
    "\n",
    "bar_plt_cont=tel_data.groupby(['Contract'])['Churn'].mean().reset_index()\n",
    "bar_plt_pprbll=tel_data.groupby(['PaperlessBilling'])['Churn'].mean().reset_index()\n",
    "bar_plt_pymnt=tel_data.groupby(['PaymentMethod'])['Churn'].mean().reset_index()\n",
    "\n",
    "print(bar_plt_cont,'\\n')\n",
    "print(bar_plt_pprbll,'\\n')\n",
    "print(bar_plt_pymnt,'\\n')\n",
    "\n",
    "sns.barplot(y=\"Churn\", x= \"Contract\", data=bar_plt_cont,  orient='v' , ax=axes[0])\n",
    "sns.barplot(y=\"Churn\", x= \"PaperlessBilling\", data=bar_plt_pprbll, orient='v', ax=axes[1])\n",
    "sns.barplot(y=\"Churn\", x= \"PaymentMethod\", data=bar_plt_pymnt, orient='v', ax=axes[2])\n",
    "\n",
    "plt.show()"
   ]
  },
  {
   "cell_type": "markdown",
   "id": "53f33e9d",
   "metadata": {},
   "source": [
    "- Contract : Customers under some form of contract are much less likely to churn compared to people who renew monthly.<br>\n",
    "- Paperless billing : Customers who subscribed to paperless billing are more likely to churn. <br>\n",
    "- Payment method : Customers who pay through electronnic checks are more likely to churn compared to other modes of payments."
   ]
  },
  {
   "cell_type": "markdown",
   "id": "e467d598",
   "metadata": {},
   "source": [
    "### Visualsing the relation between Tenure, Monthly charges, Total charges and churn rate"
   ]
  },
  {
   "cell_type": "code",
   "execution_count": null,
   "id": "629431fb",
   "metadata": {},
   "outputs": [],
   "source": [
    "# plotting scatterplot for tenure, MonthlyCharges, TotalCharges and churn\n",
    "\n",
    "f,axes = plt.subplots(3,1,figsize=(10,10))\n",
    "plt.subplots_adjust(hspace=0.5)\n",
    "\n",
    "scat_plt_ten=tel_data.groupby(['tenure'])['Churn'].mean().reset_index()\n",
    "scat_plt_mchrg=tel_data.groupby(['MonthlyCharges'])['Churn'].mean().reset_index()\n",
    "scat_plt_totchrg=tel_data.groupby(['TotalCharges'])['Churn'].mean().reset_index()\n",
    "\n",
    "sns.scatterplot(y=\"Churn\", x= \"tenure\", data=scat_plt_ten, ax=axes[0])\n",
    "sns.scatterplot(y=\"Churn\", x= \"MonthlyCharges\", data=scat_plt_mchrg, ax=axes[1])\n",
    "sns.scatterplot(y=\"Churn\", x= \"TotalCharges\", data=scat_plt_totchrg, ax=axes[2])\n",
    "\n",
    "plt.show()"
   ]
  },
  {
   "cell_type": "markdown",
   "id": "68ca37c9",
   "metadata": {},
   "source": [
    "Churn and tenure have a linear trend. More the tenure less is the churn. Monthly charges and total charges have no trending at all. They are not related"
   ]
  },
  {
   "cell_type": "markdown",
   "id": "eccd6cba",
   "metadata": {},
   "source": [
    "Total charges column is an object. We need to convert it to float. Also there are blank entries without any alphanumeric data in the column which are not detected by isnull(). We have to fill those values. "
   ]
  },
  {
   "cell_type": "code",
   "execution_count": null,
   "id": "2b5bd415",
   "metadata": {},
   "outputs": [],
   "source": [
    "# using pd.to_numeric to convert the TotalCharges column to numeric will help us see the null values\n",
    "tel_data.TotalCharges = pd.to_numeric(tel_data.TotalCharges, errors=\"coerce\")\n",
    "tel_data.isnull().sum()"
   ]
  },
  {
   "cell_type": "markdown",
   "id": "5c22d9b7",
   "metadata": {},
   "source": [
    "As suspected, 11 rows are of TotalCharges column now reflects null values. We can either impute values or delete them since only 11 rows out of 7043 rows is less than 1%"
   ]
  },
  {
   "cell_type": "code",
   "execution_count": null,
   "id": "a645bba1",
   "metadata": {},
   "outputs": [],
   "source": [
    "# deleting the rows with null values\n",
    "\n",
    "tel_data = tel_data.dropna(axis=0)"
   ]
  },
  {
   "cell_type": "code",
   "execution_count": null,
   "id": "58028279",
   "metadata": {},
   "outputs": [],
   "source": [
    "tel_data.info()"
   ]
  },
  {
   "cell_type": "markdown",
   "id": "1400cf3e",
   "metadata": {},
   "source": [
    "The rows with null values have been deleted and TotalCharges column is also converted to numeric"
   ]
  },
  {
   "cell_type": "code",
   "execution_count": null,
   "id": "84acaa97",
   "metadata": {},
   "outputs": [],
   "source": [
    "tel_data.head(2)"
   ]
  },
  {
   "cell_type": "code",
   "execution_count": null,
   "id": "2910f62f",
   "metadata": {},
   "outputs": [],
   "source": [
    "# encoding all categorical variables using one hot encoding\n",
    "\n",
    "tel_data = pd.get_dummies(tel_data,drop_first=True,columns=['gender','Partner','Dependents',\n",
    "                                            'PhoneService','MultipleLines','InternetService',\n",
    "                                           'OnlineSecurity','OnlineBackup','DeviceProtection',\n",
    "                                           'TechSupport','StreamingTV','StreamingMovies',\n",
    "                                           'Contract','PaperlessBilling','PaymentMethod'])"
   ]
  },
  {
   "cell_type": "markdown",
   "id": "1d863dba",
   "metadata": {},
   "source": [
    "### <ins><div class=\"alert alert-block alert-warning\">*Step 3: Performing steps for model building*</div></ins>"
   ]
  },
  {
   "cell_type": "code",
   "execution_count": null,
   "id": "23a613b3",
   "metadata": {},
   "outputs": [],
   "source": [
    "# import sklearn libraries\n",
    "from sklearn.model_selection import KFold,train_test_split,cross_val_score\n",
    "from sklearn.metrics import classification_report,confusion_matrix\n",
    "from sklearn.model_selection import RandomizedSearchCV\n",
    "import xgboost as xgb"
   ]
  },
  {
   "cell_type": "code",
   "execution_count": null,
   "id": "0de292be",
   "metadata": {},
   "outputs": [],
   "source": [
    "# performing feature selection using chi2 test\n",
    "from sklearn.feature_selection import chi2\n",
    "\n",
    "# splitting the dataset (removing 'customerID' since it doesnt serve any purpose)\n",
    "X = tel_data.drop(['customerID','Churn'],axis=1)\n",
    "y = tel_data['Churn']\n",
    "\n",
    "chi_scores = chi2(X,y)\n",
    "print('chi_values:',chi_scores[0],'\\n')\n",
    "print('p_values:',chi_scores[1])"
   ]
  },
  {
   "cell_type": "code",
   "execution_count": null,
   "id": "569c4a11",
   "metadata": {},
   "outputs": [],
   "source": [
    "p_values = pd.Series(chi_scores[1],index = X.columns)\n",
    "p_values.sort_values(ascending = False , inplace = True)"
   ]
  },
  {
   "cell_type": "code",
   "execution_count": null,
   "id": "bf7c9931",
   "metadata": {},
   "outputs": [],
   "source": [
    "plt.figure(figsize=(12,8))\n",
    "p_values.plot.bar()\n",
    "plt.show()"
   ]
  },
  {
   "cell_type": "markdown",
   "id": "b308019f",
   "metadata": {},
   "source": [
    "The plot above shows that through chi square method p-values for 'phoneservice', 'geneder male', 'multiple lines_no phone service are the highest, indicating that we can discard them for our model prediction. Let's drop these variables and build our model based on the remaining"
   ]
  },
  {
   "cell_type": "code",
   "execution_count": null,
   "id": "c24eae89",
   "metadata": {},
   "outputs": [],
   "source": [
    "tel_data.drop(['PhoneService_Yes','gender_Male','MultipleLines_No phone service','MultipleLines_Yes'],axis=1,inplace=True)\n",
    "tel_data.head(2)"
   ]
  },
  {
   "cell_type": "code",
   "execution_count": null,
   "id": "fd558c67",
   "metadata": {},
   "outputs": [],
   "source": [
    "# splitting the dataset (removing 'customerID' since it doesnt serve any purpose)\n",
    "X = tel_data.drop(['customerID','Churn'],axis=1)\n",
    "y = tel_data['Churn']"
   ]
  },
  {
   "cell_type": "code",
   "execution_count": null,
   "id": "c7636f08",
   "metadata": {},
   "outputs": [],
   "source": [
    "# splitting into train and test data\n",
    "from sklearn.model_selection import train_test_split\n",
    "X_train,X_test,y_train,y_test = train_test_split(X,y,test_size=0.3,random_state=42)"
   ]
  },
  {
   "cell_type": "markdown",
   "id": "1d64d95e",
   "metadata": {},
   "source": [
    "**We will implement XGBOOST modelling for prediction.**"
   ]
  },
  {
   "cell_type": "code",
   "execution_count": null,
   "id": "e49fe0f9",
   "metadata": {},
   "outputs": [],
   "source": [
    "# importing libraries\n",
    "from sklearn.model_selection import RandomizedSearchCV, GridSearchCV\n",
    "from sklearn.metrics import accuracy_score\n",
    "import xgboost as xgb"
   ]
  },
  {
   "cell_type": "code",
   "execution_count": null,
   "id": "4e82cddc",
   "metadata": {},
   "outputs": [],
   "source": [
    "model_xgb_1 = xgb.XGBClassifier()"
   ]
  },
  {
   "cell_type": "code",
   "execution_count": null,
   "id": "80d951dc",
   "metadata": {},
   "outputs": [],
   "source": [
    "# hyperparameter tuning for best params for xgboost\n",
    "params = {\"n_estimators\":range(50, 400, 50),    \n",
    "          \"max_depth\": [3,4,5,6,8,10,12,14],\n",
    "          \"learning_rate\":[0.05,0.1,0.15,0.2,0.25,0.3],\n",
    "          \"gamma\":[0.1,0.2,0.3,0.4],\n",
    "          \"min_child_weight\":[1,3,5,7], \n",
    "          \"colsample_bytree\": [0.3,0.4,0.5,0.7],\n",
    "          \"random_state\" : [1, 42, 58, 69, 72]}\n",
    "\n",
    "rand_srch = RandomizedSearchCV(model_xgb_1,param_distributions=params,n_iter=5,scoring='roc_auc',n_jobs=-1,cv=5,verbose=3)\n",
    "rand_srch.fit(X_train,y_train)"
   ]
  },
  {
   "cell_type": "code",
   "execution_count": null,
   "id": "fd1b1729",
   "metadata": {},
   "outputs": [],
   "source": [
    "rand_srch.best_estimator_"
   ]
  },
  {
   "cell_type": "code",
   "execution_count": null,
   "id": "f0e8b038",
   "metadata": {},
   "outputs": [],
   "source": [
    "rand_srch.best_params_"
   ]
  },
  {
   "cell_type": "code",
   "execution_count": null,
   "id": "86a18f0e",
   "metadata": {},
   "outputs": [],
   "source": [
    "# fitting xgboost model with the best params\n",
    "model_xgb = xgb.XGBClassifier(base_score=0.5, booster='gbtree', colsample_bylevel=1,\n",
    "              colsample_bynode=1, colsample_bytree=0.7, gamma=0.3, gpu_id=-1,\n",
    "              importance_type='gain', interaction_constraints='',\n",
    "              learning_rate=0.3, max_delta_step=0, max_depth=4,\n",
    "              min_child_weight=5, missing=None, monotone_constraints='()',\n",
    "              n_estimators=50, n_jobs=0, num_parallel_tree=1, random_state=58,\n",
    "              reg_alpha=0, reg_lambda=1, scale_pos_weight=1, subsample=1,\n",
    "              tree_method='exact', validate_parameters=1, verbosity=None)"
   ]
  },
  {
   "cell_type": "code",
   "execution_count": null,
   "id": "e4c65dfd",
   "metadata": {},
   "outputs": [],
   "source": [
    "trn_xgbmod = model_xgb.fit(X_train,y_train)\n",
    "\n",
    "# checking accuracy of training data\n",
    "print('Accuracy of XGB classifier on training set: {:.2f}'\n",
    "       .format(trn_xgbmod.score(X_train, y_train)))"
   ]
  },
  {
   "cell_type": "code",
   "execution_count": null,
   "id": "cb9140c2",
   "metadata": {},
   "outputs": [],
   "source": [
    "y_pred = trn_xgbmod.predict(X_test)\n",
    "print('Accuracy of XGB classifier on test set: {:.2f}'\n",
    "       .format(trn_xgbmod.score(X_test[X_train.columns], y_test)))"
   ]
  },
  {
   "cell_type": "code",
   "execution_count": null,
   "id": "6eaa647c",
   "metadata": {},
   "outputs": [],
   "source": [
    "print(classification_report(y_test, y_pred))"
   ]
  },
  {
   "cell_type": "code",
   "execution_count": null,
   "id": "c367ef4d",
   "metadata": {},
   "outputs": [],
   "source": [
    "# checking churn probability of the customers\n",
    "tel_data['churn_proba'] = trn_xgbmod.predict_proba(tel_data[X_train.columns])[:,1]\n",
    "tel_data[['customerID','churn_proba']].head(10)"
   ]
  },
  {
   "cell_type": "markdown",
   "id": "484f3df3",
   "metadata": {},
   "source": [
    "**We know the likely customers who would churn and we can build our strategy around them to increase retention**"
   ]
  }
 ],
 "metadata": {
  "kernelspec": {
   "display_name": "Python 3",
   "language": "python",
   "name": "python3"
  },
  "language_info": {
   "codemirror_mode": {
    "name": "ipython",
    "version": 3
   },
   "file_extension": ".py",
   "mimetype": "text/x-python",
   "name": "python",
   "nbconvert_exporter": "python",
   "pygments_lexer": "ipython3",
   "version": "3.8.3"
  }
 },
 "nbformat": 4,
 "nbformat_minor": 5
}
